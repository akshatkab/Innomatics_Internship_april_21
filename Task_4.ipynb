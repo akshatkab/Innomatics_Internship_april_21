{
 "cells": [
  {
   "cell_type": "markdown",
   "metadata": {},
   "source": [
    "# Assignment 4"
   ]
  },
  {
   "cell_type": "code",
   "execution_count": 2,
   "metadata": {},
   "outputs": [
    {
     "name": "stdout",
     "output_type": "stream",
     "text": [
      "akshat\n",
      "kabra\n",
      "Hello akshat kabra! You just delved into python.\n"
     ]
    }
   ],
   "source": [
    "#1\n",
    "#Q-1 What's Your Name?\n",
    "def print_full_name(first, last):\n",
    "    # Write your code here\n",
    "    print(\"Hello {0} {1}! You just delved into python.\".format(first,last))\n",
    "\n",
    "if __name__ == '__main__':\n",
    "    first_name = input()\n",
    "    last_name = input()\n",
    "    print_full_name(first_name, last_name)"
   ]
  },
  {
   "cell_type": "code",
   "execution_count": 3,
   "metadata": {},
   "outputs": [
    {
     "name": "stdout",
     "output_type": "stream",
     "text": [
      "aksHat KabRa\n",
      "AKShAT kABrA\n"
     ]
    }
   ],
   "source": [
    "#2\n",
    "#Swap Case\n",
    "def swap_case(s):\n",
    "    r=\"\"\n",
    "    for i in s:\n",
    "        if i==i.lower():\n",
    "            r+=i.upper()\n",
    "        else:\n",
    "            r+=i.lower()\n",
    "    return r\n",
    "        \n",
    "\n",
    "if __name__ == '__main__':\n",
    "    s = input()\n",
    "    result = swap_case(s)\n",
    "    print(result)"
   ]
  },
  {
   "cell_type": "code",
   "execution_count": 4,
   "metadata": {},
   "outputs": [
    {
     "name": "stdout",
     "output_type": "stream",
     "text": [
      "this is akshat kabra\n",
      "this-is-akshat-kabra\n"
     ]
    }
   ],
   "source": [
    "#3\n",
    "#String Split and Join\n",
    "def split_and_join(line):\n",
    "    # write your code here\n",
    "    line=line.split(\" \")\n",
    "    a=\"-\".join(line)\n",
    "    return a\n",
    "\n",
    "if __name__ == '__main__':\n",
    "    line = input()\n",
    "    result = split_and_join(line)\n",
    "    print(result)"
   ]
  },
  {
   "cell_type": "code",
   "execution_count": 5,
   "metadata": {},
   "outputs": [
    {
     "name": "stdout",
     "output_type": "stream",
     "text": [
      "akshat\n",
      "6 t\n",
      "akshatt\n"
     ]
    }
   ],
   "source": [
    "#4\n",
    "#String mutation\n",
    "def mutate_string(string, position, character):\n",
    "    string=string[:position]+character+string[position+1:]\n",
    "    return string\n",
    "\n",
    "if __name__ == '__main__':\n",
    "    s = input()\n",
    "    i, c = input().split()\n",
    "    s_new = mutate_string(s, int(i), c)\n",
    "    print(s_new)"
   ]
  },
  {
   "cell_type": "code",
   "execution_count": 6,
   "metadata": {},
   "outputs": [
    {
     "name": "stdout",
     "output_type": "stream",
     "text": [
      "qA2\n",
      "True\n",
      "True\n",
      "True\n",
      "True\n",
      "True\n"
     ]
    }
   ],
   "source": [
    "#5\n",
    "#String Validators\n",
    "if __name__ == '__main__':\n",
    "    s = input()\n",
    "    print(any(c.isalnum() for c in s))\n",
    "    print(any(c.isalpha() for c in s))\n",
    "    print(any(c.isdigit() for c in s))\n",
    "    print(any(c.islower() for c in s))\n",
    "    print(any(c.isupper() for c in s))\n",
    "    \n"
   ]
  },
  {
   "cell_type": "code",
   "execution_count": 16,
   "metadata": {},
   "outputs": [
    {
     "name": "stdout",
     "output_type": "stream",
     "text": [
      "akshat\n",
      "ksh\n",
      "1\n"
     ]
    }
   ],
   "source": [
    "#6\n",
    "#find a string\n",
    "def count_substring(string, sub_string):\n",
    "    l=len(sub_string)\n",
    "    c=0\n",
    "    for i in range(len(string)):\n",
    "        s=string[i:i+l]\n",
    "        if s==sub_string:\n",
    "            c+=1\n",
    "    return c\n",
    "\n",
    "\n",
    "if __name__ == '__main__':\n",
    "    string = input().strip()\n",
    "    sub_string = input().strip()\n",
    "    \n",
    "    count = count_substring(string, sub_string)\n",
    "    print(count)"
   ]
  },
  {
   "cell_type": "code",
   "execution_count": 17,
   "metadata": {},
   "outputs": [
    {
     "name": "stdout",
     "output_type": "stream",
     "text": [
      "9 27\n",
      "------------.|.------------\n",
      "---------.|..|..|.---------\n",
      "------.|..|..|..|..|.------\n",
      "---.|..|..|..|..|..|..|.---\n",
      "----------WELCOME----------\n",
      "---.|..|..|..|..|..|..|.---\n",
      "------.|..|..|..|..|.------\n",
      "---------.|..|..|.---------\n",
      "------------.|.------------\n"
     ]
    }
   ],
   "source": [
    "#7\n",
    "#Design Doormat\n",
    "# Enter your code here. Read input from STDIN. Print output to STDOUT\n",
    "a, b = map(int,input().split())\n",
    "for i in range(1,a,2): \n",
    "    print((i * \".|.\").center(b, \"-\"))\n",
    "print(\"WELCOME\".center(b,\"-\"))\n",
    "for i in range(a-2,-1,-2): \n",
    "    print((i * \".|.\").center(b, \"-\"))\n"
   ]
  },
  {
   "cell_type": "code",
   "execution_count": 18,
   "metadata": {},
   "outputs": [
    {
     "name": "stdout",
     "output_type": "stream",
     "text": [
      "AABCAAADA\n",
      "3\n",
      "AB\n",
      "CA\n",
      "AD\n"
     ]
    }
   ],
   "source": [
    "#8\n",
    "#Merge tools\n",
    "def merge_the_tools(string, k):\n",
    "    # your code goes here\n",
    "    for i in range(0, len(string), k):\n",
    "        s = \"\"\n",
    "        for j in string[i : i + k]:\n",
    "            if j not in s:\n",
    "               s += j          \n",
    "        print(s)\n",
    "    \n",
    "    \n",
    "\n",
    "if __name__ == '__main__':\n",
    "    string, k = input(), int(input())\n",
    "    merge_the_tools(string, k)\n"
   ]
  },
  {
   "cell_type": "code",
   "execution_count": 21,
   "metadata": {},
   "outputs": [
    {
     "data": {
      "text/plain": [
       "'Hello Akshat'"
      ]
     },
     "execution_count": 21,
     "metadata": {},
     "output_type": "execute_result"
    }
   ],
   "source": [
    "#9\n",
    "#Capitalize\n",
    "#!/bin/python3\n",
    "\n",
    "import math\n",
    "import os\n",
    "import random\n",
    "import re\n",
    "import sys\n",
    "\n",
    "# Complete the solve function below.\n",
    "def solve(s):\n",
    "    st=s.split(' ')\n",
    "    return ' '.join((i.capitalize() for i in st))\n",
    "\n",
    "solve(\"hello akshat\")\n",
    "\n",
    "    "
   ]
  },
  {
   "cell_type": "code",
   "execution_count": null,
   "metadata": {},
   "outputs": [],
   "source": []
  }
 ],
 "metadata": {
  "kernelspec": {
   "display_name": "Python 3",
   "language": "python",
   "name": "python3"
  },
  "language_info": {
   "codemirror_mode": {
    "name": "ipython",
    "version": 3
   },
   "file_extension": ".py",
   "mimetype": "text/x-python",
   "name": "python",
   "nbconvert_exporter": "python",
   "pygments_lexer": "ipython3",
   "version": "3.7.0"
  }
 },
 "nbformat": 4,
 "nbformat_minor": 2
}
