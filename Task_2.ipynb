{
 "cells": [
  {
   "cell_type": "markdown",
   "metadata": {},
   "source": [
    "# Innomatics Internship April 2021"
   ]
  },
  {
   "cell_type": "markdown",
   "metadata": {},
   "source": [
    "# Assignment 2"
   ]
  },
  {
   "cell_type": "code",
   "execution_count": 1,
   "metadata": {},
   "outputs": [
    {
     "name": "stdout",
     "output_type": "stream",
     "text": [
      "2\n",
      "2\n",
      "2\n",
      "2\n",
      "[[0, 0, 0], [0, 0, 1], [0, 1, 0], [0, 1, 2], [0, 2, 1], [0, 2, 2], [1, 0, 0], [1, 0, 2], [1, 1, 1], [1, 1, 2], [1, 2, 0], [1, 2, 1], [1, 2, 2], [2, 0, 1], [2, 0, 2], [2, 1, 0], [2, 1, 1], [2, 1, 2], [2, 2, 0], [2, 2, 1], [2, 2, 2]]\n"
     ]
    }
   ],
   "source": [
    "#Question 1\n",
    "#list comprehensions\n",
    "if __name__ == '__main__':\n",
    "    x = int(input())\n",
    "    y = int(input())\n",
    "    z = int(input())\n",
    "    n = int(input())\n",
    "    s=[]\n",
    "    for i in range(0,x+1):\n",
    "        for j in range(0,y+1):\n",
    "            for k in range(0,z+1):\n",
    "                if i+j+k!=n:\n",
    "                    s.append([i,j,k])\n",
    "    print(s)"
   ]
  },
  {
   "cell_type": "code",
   "execution_count": 2,
   "metadata": {},
   "outputs": [
    {
     "name": "stdout",
     "output_type": "stream",
     "text": [
      "4\n",
      "1 31 21 54\n",
      "31\n"
     ]
    }
   ],
   "source": [
    "#Question 2\n",
    "#Find runner up score\n",
    "if __name__ == '__main__':\n",
    "    n = int(input())\n",
    "    arr = list(map(int, input().split()))\n",
    "    lar=sec=-100\n",
    "    \n",
    "    for i in range(0,n):\n",
    "        lar=max(lar,arr[i])\n",
    "    \n",
    "    for i in range(0,n):\n",
    "        if arr[i]!=lar:\n",
    "            sec=max(sec,arr[i])\n",
    "    print(sec)\n"
   ]
  },
  {
   "cell_type": "code",
   "execution_count": null,
   "metadata": {},
   "outputs": [],
   "source": []
  },
  {
   "cell_type": "code",
   "execution_count": 4,
   "metadata": {},
   "outputs": [
    {
     "name": "stdout",
     "output_type": "stream",
     "text": [
      "3\n",
      "akshat 1 2 3\n",
      "madhur 3 4 5\n",
      "kiran 7 8 9\n",
      "akshat\n",
      "2.00\n"
     ]
    }
   ],
   "source": [
    "#Question 4\n",
    "#finding the percentage\n",
    "if __name__ == '__main__':\n",
    "    n = int(input())\n",
    "    student_marks = {}\n",
    "    for _ in range(n):\n",
    "        name, *line = input().split()\n",
    "        scores = list(map(float, line))\n",
    "        student_marks[name] = scores\n",
    "    query_name = input()\n",
    "    a=0\n",
    "    for i in student_marks[query_name]:\n",
    "        a+=i\n",
    "    print(\"{0:.2f}\".format(a/3))"
   ]
  },
  {
   "cell_type": "code",
   "execution_count": 5,
   "metadata": {},
   "outputs": [
    {
     "name": "stdout",
     "output_type": "stream",
     "text": [
      "4\n",
      "insert 0 5\n",
      "print\n",
      "[5]\n",
      "append 1\n",
      "print\n",
      "[5, 1]\n"
     ]
    }
   ],
   "source": [
    "#Question 3\n",
    "#List Discussions\n",
    "if __name__ == '__main__':\n",
    "    N = int(input())\n",
    "    lst=[]\n",
    "    for i in range(N):\n",
    "        cmd=input().split()\n",
    "        if cmd[0]=='insert':\n",
    "            lst.insert(int(cmd[1]),int(cmd[2]))\n",
    "        elif cmd[0]==\"print\":\n",
    "            print(lst)\n",
    "        elif cmd[0]==\"remove\":\n",
    "            lst.remove(int(cmd[1]))\n",
    "        elif cmd[0]==\"append\":\n",
    "            lst.append(int(cmd[1]))\n",
    "        elif cmd[0]==\"sort\":\n",
    "            lst.sort()\n",
    "        elif cmd[0]==\"pop\":\n",
    "            lst.pop()\n",
    "        else:\n",
    "            lst=lst[::-1]\n"
   ]
  },
  {
   "cell_type": "code",
   "execution_count": 6,
   "metadata": {},
   "outputs": [
    {
     "name": "stdout",
     "output_type": "stream",
     "text": [
      "2\n",
      "1 2\n",
      "3713081631934410656\n"
     ]
    }
   ],
   "source": [
    "#Question 5\n",
    "#Basic of tuple\n",
    "if __name__ == '__main__':\n",
    "    n = int(input())\n",
    "    integer_list = map(int, input().split())\n",
    "    tup=tuple(integer_list)\n",
    "    print(hash(tup))\n"
   ]
  },
  {
   "cell_type": "markdown",
   "metadata": {},
   "source": [
    "# Questions on Sets\n"
   ]
  },
  {
   "cell_type": "code",
   "execution_count": 7,
   "metadata": {},
   "outputs": [
    {
     "name": "stdout",
     "output_type": "stream",
     "text": [
      "10\n",
      "161 182 161 154 176 170 167 171 170 174\n",
      "169.375\n"
     ]
    }
   ],
   "source": [
    "#Question 1\n",
    "def average(array):\n",
    "    # your code goes her\n",
    "    return sum(set(array))/len(set(array))\n",
    "\n",
    "if __name__ == '__main__':\n",
    "    n = int(input())\n",
    "    arr = list(map(int, input().split()))\n",
    "    result = average(arr)\n",
    "    print(result)"
   ]
  },
  {
   "cell_type": "code",
   "execution_count": 8,
   "metadata": {},
   "outputs": [
    {
     "name": "stdout",
     "output_type": "stream",
     "text": [
      "4\n",
      "2 4 5 9\n",
      "4\n",
      "2 4 11 12\n",
      "5\n",
      "9\n",
      "11\n",
      "12\n"
     ]
    }
   ],
   "source": [
    "#Question 2\n",
    "#Symmetric Difference\n",
    "n=int(input())\n",
    "lst=list(map(int,input().split()))\n",
    "n1=int(input())\n",
    "arr=list(map(int,input().split()))\n",
    "x=set(lst)\n",
    "y=set(arr)\n",
    "\n",
    "i=x.difference(y)\n",
    "j=y.difference(x)\n",
    "k=i.union(j)\n",
    "for r in sorted(list(k)):\n",
    "        print(r)"
   ]
  },
  {
   "cell_type": "code",
   "execution_count": 10,
   "metadata": {},
   "outputs": [
    {
     "name": "stdout",
     "output_type": "stream",
     "text": [
      "7\n",
      "uk\n",
      "china \n",
      "usa\n",
      "france\n",
      "uk\n",
      "france\n",
      "UAE\n",
      "5\n"
     ]
    }
   ],
   "source": [
    "#Question 3\n",
    "#Set .add()\n",
    "# Enter your code here. Read input from STDIN. Print output to STDOUT\n",
    "n=int(input())\n",
    "s=set()\n",
    "\n",
    "for i in range(n):\n",
    "    s.add(input())\n",
    "print(len(s))"
   ]
  },
  {
   "cell_type": "code",
   "execution_count": 3,
   "metadata": {},
   "outputs": [
    {
     "name": "stdout",
     "output_type": "stream",
     "text": [
      "4\n",
      "1 2 3 4\n",
      "2\n",
      "pop\n",
      "print\n",
      "9\n"
     ]
    }
   ],
   "source": [
    "#Question 4\n",
    "#Set discard,remove,pop\n",
    "n = int(input())\n",
    "s = set(map(int, input().split()))\n",
    "a=int(input())\n",
    "for i in range(a):\n",
    "    se=list(input().split())\n",
    "    if se[0]==\"pop\":\n",
    "        s.pop()\n",
    "    elif se[0]==\"remove\":\n",
    "        s.remove(int(se[1]))\n",
    "    elif se[0]==\"discard\":\n",
    "        s.discard(int(se[1]))\n",
    "print(sum(s))\n",
    "    "
   ]
  },
  {
   "cell_type": "code",
   "execution_count": 1,
   "metadata": {},
   "outputs": [
    {
     "name": "stdout",
     "output_type": "stream",
     "text": [
      "9\n",
      "1 2 3 4 5 6 7 8 9\n",
      "9\n",
      "10 1 2 3 11 21 55 6 8\n",
      "13\n"
     ]
    }
   ],
   "source": [
    "#Question 6\n",
    "# Enter your code here. Read input from STDIN. Print output to STDOUT\n",
    "n=int(input())\n",
    "ar=list(map(int,input().split()))\n",
    "n1=int(input())\n",
    "ar1=list(map(int,input().split()))\n",
    "x=set(ar)\n",
    "y=set(ar1)\n",
    "i=x.union(y)\n",
    "print(len(i))"
   ]
  },
  {
   "cell_type": "code",
   "execution_count": 2,
   "metadata": {},
   "outputs": [
    {
     "name": "stdout",
     "output_type": "stream",
     "text": [
      "9\n",
      "1 2 3 4 5 6 7 8 9\n",
      "9\n",
      "10 1 2 3 11 21 55 6 8\n",
      "5\n"
     ]
    }
   ],
   "source": [
    "#Questioh 6\n",
    "#intersection\n",
    "n=int(input())\n",
    "ar=list(map(int,input().split()))\n",
    "n1=int(input())\n",
    "ar1=list(map(int,input().split()))\n",
    "x=set(ar)\n",
    "y=set(ar1)\n",
    "i=x.intersection(y)\n",
    "print(len(i))\n"
   ]
  },
  {
   "cell_type": "code",
   "execution_count": 3,
   "metadata": {},
   "outputs": [
    {
     "name": "stdout",
     "output_type": "stream",
     "text": [
      "3 2\n",
      "1 5 3\n",
      "3 1\n",
      "5 7\n",
      "1\n"
     ]
    }
   ],
   "source": [
    "#Question 7\n",
    "#No idea problem\n",
    "# Enter your code here. Read input from STDIN. Print output to STDOUT\n",
    "n,m=map(int,input().split())\n",
    "a=list(map(int,input().split()))\n",
    "A=set(map(int,input().split()))\n",
    "B=set(map(int,input().split()))\n",
    "s=0\n",
    "for i in a:\n",
    "    if i in A:\n",
    "        s+=1\n",
    "    if i in B:\n",
    "        s-=1\n",
    "print(s)\n"
   ]
  },
  {
   "cell_type": "code",
   "execution_count": 4,
   "metadata": {},
   "outputs": [
    {
     "name": "stdout",
     "output_type": "stream",
     "text": [
      "9\n",
      "1 2 3 4 5 6 7 8 9\n",
      "9\n",
      "10 1 2 3 11 21 55 6 8\n",
      "8\n"
     ]
    }
   ],
   "source": [
    "#Question 8\n",
    "#Symmetric_difference\n",
    "n=int(input())\n",
    "ar=list(map(int,input().split()))\n",
    "n1=int(input())\n",
    "ar1=list(map(int,input().split()))\n",
    "x=set(ar)\n",
    "y=set(ar1)\n",
    "i=x.symmetric_difference(y)\n",
    "print(len(i))"
   ]
  },
  {
   "cell_type": "code",
   "execution_count": 5,
   "metadata": {},
   "outputs": [
    {
     "name": "stdout",
     "output_type": "stream",
     "text": [
      "9\n",
      "1 2 3 4 5 6 7 8 9\n",
      "9\n",
      "10 1 2 3 11 21 55 6 8\n",
      "4\n"
     ]
    }
   ],
   "source": [
    "#Question 9\n",
    "#Set Difference\n",
    "#a-b\n",
    "n=int(input())\n",
    "ar=list(map(int,input().split()))\n",
    "n1=int(input())\n",
    "ar1=list(map(int,input().split()))\n",
    "x=set(ar)\n",
    "y=set(ar1)\n",
    "i=x.difference(y)\n",
    "print(len(i))"
   ]
  },
  {
   "cell_type": "code",
   "execution_count": null,
   "metadata": {},
   "outputs": [],
   "source": [
    "#Question 10\n",
    "#ccheck subset\n",
    "def func():\n",
    "    for i in range(int(input())): \n",
    "        a = int(input()) \n",
    "        A = set(input().split())\n",
    "        b = int(input())\n",
    "        B = set(input().split())\n",
    "        print('True' if A.union(B) == B else 'False')\n",
    "\n",
    "if __name__ == '__main__':\n",
    "    func()\n",
    "\n"
   ]
  },
  {
   "cell_type": "code",
   "execution_count": 1,
   "metadata": {},
   "outputs": [
    {
     "name": "stdout",
     "output_type": "stream",
     "text": [
      "1 2 3 4 5 6 7 8 9 10 11 12 23 45 84 78\n",
      "2\n",
      "1 2 3 4 5\n",
      "100 11 12\n",
      "False\n"
     ]
    }
   ],
   "source": [
    "#Question 11\n",
    "#strict superset\n",
    "# Enter your code here. Read input from STDIN. Print output to STDOUT\n",
    "a=set(map(int,input().split()))\n",
    "n=int(input())\n",
    "v=\"\"\n",
    "for i in range(n):\n",
    "    x=set(map(int,input().split()))\n",
    "    if len(x.difference(a))==0:\n",
    "        v=\"True\"\n",
    "    else:\n",
    "        v=\"False\"\n",
    "        break\n",
    "print(v)\n",
    "    \n",
    "\n",
    "    "
   ]
  },
  {
   "cell_type": "code",
   "execution_count": null,
   "metadata": {},
   "outputs": [],
   "source": [
    "#Question 12\n",
    "#set Mutation\n",
    "# Enter your code here. Read input from STDIN. Print output to STDOUT\n",
    "l=int(input())\n",
    "s=set(map(int, input().split()))\n",
    "N=int(input())\n",
    "\n",
    "for i in range(N):\n",
    "    (p, q)=input().split()\n",
    "    s2=set(map(int,input().split()))\n",
    "    if p=='intersection_update':\n",
    "        s.intersection_update(s2)\n",
    "    elif p=='update':\n",
    "        s.update(s2)\n",
    "    elif p=='symmetric_difference_update':\n",
    "        s.symmetric_difference_update(s2)\n",
    "    elif p=='difference_update':\n",
    "        s.difference_update(s2)\n",
    "print(sum(s))\n"
   ]
  },
  {
   "cell_type": "code",
   "execution_count": null,
   "metadata": {},
   "outputs": [],
   "source": []
  }
 ],
 "metadata": {
  "kernelspec": {
   "display_name": "Python 3",
   "language": "python",
   "name": "python3"
  },
  "language_info": {
   "codemirror_mode": {
    "name": "ipython",
    "version": 3
   },
   "file_extension": ".py",
   "mimetype": "text/x-python",
   "name": "python",
   "nbconvert_exporter": "python",
   "pygments_lexer": "ipython3",
   "version": "3.7.0"
  }
 },
 "nbformat": 4,
 "nbformat_minor": 2
}
