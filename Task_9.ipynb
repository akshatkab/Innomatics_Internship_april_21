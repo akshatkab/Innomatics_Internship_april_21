{
 "cells": [
  {
   "cell_type": "markdown",
   "id": "a2585bf4",
   "metadata": {},
   "source": [
    "# Assignment 09"
   ]
  },
  {
   "cell_type": "markdown",
   "id": "460e4ab1",
   "metadata": {},
   "source": [
    "# Hypothesis Testing with T distribution\n",
    "Statistical Hypothesis testing is to test the assumption (hypothesis) made and draw the conclusion about the population. This is done by testing the sample representing the whole population and based on the results obtained; the hypothesis is either rejected or accepted.\n",
    "\n",
    "\n",
    "“Hypothesis is an idea that can be tested”"
   ]
  },
  {
   "cell_type": "markdown",
   "id": "f90db602",
   "metadata": {},
   "source": [
    "# Null Hypothesis and Alternative Hypothesis\n",
    "The null and alternative hypothesis is represented by Ho and Ha respectively.\n",
    "\n",
    "Hypothesis 0 (Ho): It is an assumption made about the population which needs to be tested and is considered to be true until evidence is found against it\n",
    "\n",
    "Hypothesis 1 (Ha): It is the opposite of the assumption made and is accepted when the former is rejected."
   ]
  },
  {
   "cell_type": "code",
   "execution_count": 1,
   "id": "ee46885a",
   "metadata": {},
   "outputs": [],
   "source": [
    "#importing libraries\n",
    "\n",
    "import matplotlib.pyplot as plt\n",
    "import numpy as np\n",
    "from scipy.stats import norm\n"
   ]
  },
  {
   "cell_type": "markdown",
   "id": "4ec130fd",
   "metadata": {},
   "source": [
    "# T-score\n",
    "The t-value measures the size of the difference relative to the variation in your sample data.\n",
    "\n",
    "In simply terms a T-score is a standard deviation — a mathematical term that calculates how much a result varies from the average or mean.\n",
    "\n",
    "<b>Note:-\n",
    "    When the given size of sample is less than 30 or standard deviation of population is not given we use T score insted of z score</b>"
   ]
  },
  {
   "cell_type": "code",
   "execution_count": 2,
   "id": "98f0bf46",
   "metadata": {},
   "outputs": [],
   "source": [
    "#calculating standard deviation\n",
    "def std(x):\n",
    "    sum_of_data=sum(x)\n",
    "    mean=sum_of_data/len(x)\n",
    "    var=0\n",
    "    for i in x:\n",
    "        summation=(i-mean)**2\n",
    "        var+=summation\n",
    "    return (var/len(x))**0.5"
   ]
  },
  {
   "cell_type": "code",
   "execution_count": 3,
   "id": "896144ea",
   "metadata": {},
   "outputs": [],
   "source": [
    "#now calculating t score\n",
    "def t_scoree(sample_mean,population_mean,sample_std,sample_size):\n",
    "    numerator=sample_mean-population_mean\n",
    "    denominator=sample_std/(sample_size)**0.5\n",
    "    \n",
    "    return numerator/denominator"
   ]
  },
  {
   "cell_type": "markdown",
   "id": "6c59450c",
   "metadata": {},
   "source": [
    "# Understanding the Hypothesis Testing\n",
    "\n"
   ]
  },
  {
   "cell_type": "markdown",
   "id": "cf2367a6",
   "metadata": {},
   "source": [
    "Step - 1:  \n",
    "Alternate Hypothesis (Bold claim): $ H_1 \\ \\Rightarrow \\ >, \\ <, \\ \\neq  $  \n",
    "Null Hypothesis (Status Quo): $ H_0 \\ \\Rightarrow \\ \\leq, \\ \\geq, \\ = $\n",
    "\n",
    "Step - 2:  \n",
    "* Collect a sample of size n\n",
    "* Compute the mean from this sample $ \\bar{x} $\n",
    "\n",
    "Step - 3:\n",
    "Compute Test Statistic:  \n",
    "* If population variance is known $$ z = \\frac{\\bar{x} - \\mu}{\\sigma/\\sqrt[2]{n}}$$\n",
    "\n",
    "* If population variance is unknown $$ t = \\frac{\\bar{x} - \\mu}{s/\\sqrt[2]{n}} $$\n",
    "\n",
    "Step - 4:\n",
    "Decide significance level $ \\alpha $. Lower $ \\alpha $ means you need stronger evidence to reject Null Hypothesis.\n",
    "\n",
    "Step - 5.1: Apply decision rule:\n",
    "* If test statistic is z-score -\n",
    "    * Two tailed z-test: $$ |z| > z_\\frac{\\alpha}{2} \\Rightarrow Accept \\ H_1 \\ or \\ Reject \\ H_0$$\n",
    "    * Right tailed z-test: $$ z > z_\\alpha \\Rightarrow Accept \\ H_1 \\ or \\ Reject \\ H_0 $$\n",
    "    * Left tailed z-test: $$ z < -z_\\alpha \\Rightarrow Accept \\ H_1 \\ or \\ Reject \\ H_0 $$\n",
    "    \n",
    "* If test statistic is t-score\n",
    "    * Two tailed t-test: $$ |t| > t_{n-1,\\frac{\\alpha}{2}} \\Rightarrow Accept \\ H_1 \\ or \\ Reject \\ H_0 $$\n",
    "    * Right tailed t-test: $$ t > t_{n-1,\\alpha} \\Rightarrow Accept \\ H_1 \\ or \\ Reject \\ H_0 $$\n",
    "    * Left tailed t-test: $$ t < t_{n-1,\\alpha} \\Rightarrow Accept \\ H_1 \\ or \\ Reject \\ H_0 $$\n",
    "\n",
    "Step - 5.2: Compute p-value $ P(Test \\ Statistics | H_0) $\n",
    "* For two tailed test: $$ p \\ value = 2 * (1.0 - cdf(test \\ statistic)) $$\n",
    "* For one tailed test: $$ p \\ value = (1.0 - cdf(test \\ statistic)) $$\n",
    "Now, $$ if (p \\ value < \\alpha) \\Rightarrow Accept \\ H_1 \\ or \\ Reject \\ H_0 $$"
   ]
  },
  {
   "cell_type": "markdown",
   "id": "7596f3c5",
   "metadata": {},
   "source": [
    "# Solving some examples "
   ]
  },
  {
   "cell_type": "markdown",
   "id": "a0d7b1d8",
   "metadata": {},
   "source": [
    "<b>Q-1: Pista House selling Hyderabadi Chicken Dum biryani claims that each parcel packet has 500 grams of biryani (also mentioned on the label of packet). You are sceptic of their claims and believe that on average each packet does not contain 500 grams of biryani. How do you prove your claim? \\ </b>\n",
    "\n",
    "\n",
    "Step - 1:  \n",
    "Alternate Hypothesis (Bold claim): $$ H_1:  \\mu=500 $$\n",
    "Null Hypothesis (Status Quo): $$ H_0: \\mu \\neq  500 $$\n",
    "\n",
    "Step - 2:  \n",
    "* Collect a sample of size n = 10 $$ [490, 220, 470, 500, 495, 496, 496, 498, 508, 480] $$\n",
    "* Compute sample mean $$ \\bar{x} \\ = \\ ? $$\n",
    "\n",
    "Step - 3:\n",
    "Compute Test Statistic: $$ z = \\frac{\\bar{x} - \\mu}{\\sigma/\\sqrt[2]{n}}$$\n",
    "\n",
    "Step - 4:\n",
    "Decide $ \\alpha $ or significance level\n",
    "\n",
    "Step - 5.1: ? tailed z-test: $$ reject \\ H_0 \\ if \\ ? $$\n",
    "\n",
    "Step - 5.2: Compute p-value\n"
   ]
  },
  {
   "cell_type": "code",
   "execution_count": 4,
   "id": "e1b817e7",
   "metadata": {},
   "outputs": [
    {
     "name": "stdout",
     "output_type": "stream",
     "text": [
      "Sample mean = 465.3\n",
      "Standard Deviation of sample  82.3918078451978\n"
     ]
    }
   ],
   "source": [
    "#Here sample_size=10\n",
    "n=10\n",
    "a=[490, 220, 470, 500, 495, 496, 496, 498, 508, 480]\n",
    "sample_mean=sum(a)/n\n",
    "print(\"Sample mean =\" ,sample_mean)\n",
    "\n",
    "sample_std=std(a)\n",
    "print(\"Standard Deviation of sample \",sample_std)"
   ]
  },
  {
   "cell_type": "markdown",
   "id": "20a22b63",
   "metadata": {},
   "source": [
    "<b>Calculating T score"
   ]
  },
  {
   "cell_type": "code",
   "execution_count": 5,
   "id": "fcbf1501",
   "metadata": {},
   "outputs": [
    {
     "name": "stdout",
     "output_type": "stream",
     "text": [
      "-1.3318197242863192\n"
     ]
    }
   ],
   "source": [
    "#calculating t score \n",
    "sample_mean=465.3\n",
    "sample_std=82.3918078451978\n",
    "population_mean=500\n",
    "sample_size=10\n",
    "\n",
    "t_score=t_scoree(sample_mean,population_mean,sample_std,sample_size)\n",
    "print(t_score)\n"
   ]
  },
  {
   "cell_type": "markdown",
   "id": "051823c1",
   "metadata": {},
   "source": [
    "<b>calculating T-critical value"
   ]
  },
  {
   "cell_type": "code",
   "execution_count": 6,
   "id": "901fb642",
   "metadata": {},
   "outputs": [
    {
     "name": "stdout",
     "output_type": "stream",
     "text": [
      "2.2621571627409915\n"
     ]
    }
   ],
   "source": [
    "import scipy.stats\n",
    "\n",
    "confidence_level=0.95\n",
    "alpha=1-confidence_level\n",
    "df=9 #df is degree of freedom\n",
    "t_crit= scipy.stats.t.ppf(q=1-.05/2,df=9)  #we took alpha/2 is for two tailed test\n",
    "print(t_crit)"
   ]
  },
  {
   "cell_type": "code",
   "execution_count": 7,
   "id": "7f8ea6f5",
   "metadata": {},
   "outputs": [
    {
     "name": "stdout",
     "output_type": "stream",
     "text": [
      "Failed to reject null hypothesis\n"
     ]
    }
   ],
   "source": [
    "#Decision with t test\n",
    "if (np.abs(t_score)>t_crit):\n",
    "    print(\"Reject the null Hypothesis\")\n",
    "else:\n",
    "    print(\"Failed to reject null hypothesis\")"
   ]
  },
  {
   "cell_type": "code",
   "execution_count": 8,
   "id": "d7d0219e",
   "metadata": {},
   "outputs": [
    {
     "name": "stdout",
     "output_type": "stream",
     "text": [
      "p_value= 0.18291943486353945\n",
      "Fail to reject Null Hypothesis\n"
     ]
    }
   ],
   "source": [
    "#Decision with p value\n",
    "p_value= 2*(1.0-norm.cdf(np.abs(t_score)))\n",
    "print(\"p_value=\",p_value)\n",
    "\n",
    "if(p_value<alpha):\n",
    "    print(\"Reject Null Hypothesis\")\n",
    "else:\n",
    "    print(\"Fail to reject Null Hypothesis\")"
   ]
  },
  {
   "cell_type": "markdown",
   "id": "6787471c",
   "metadata": {},
   "source": [
    "<b>By plotting we can make it more clear"
   ]
  },
  {
   "cell_type": "code",
   "execution_count": 9,
   "id": "7b6e9bca",
   "metadata": {},
   "outputs": [
    {
     "data": {
      "text/plain": [
       "Text(465.3, 0.0007, 'x_bar')"
      ]
     },
     "execution_count": 9,
     "metadata": {},
     "output_type": "execute_result"
    },
    {
     "data": {
      "image/png": "[encoded data removed]",
      "text/plain": [
       "<Figure size 432x288 with 1 Axes>"
      ]
     },
     "metadata": {
      "needs_background": "light"
     },
     "output_type": "display_data"
    }
   ],
   "source": [
    "x_min=400 #setting limits on x axis\n",
    "x_max=600\n",
    "\n",
    "meann=population_mean\n",
    "std_1=sample_std/sample_size**0.5\n",
    "\n",
    "#plotting x and y\n",
    "x = np.linspace(x_min, x_max, 100)\n",
    "y = norm.pdf(x, meann, std_1)\n",
    "plt.xlim(x_min, x_max)\n",
    "plt.plot(x, y)\n",
    "\n",
    "#Computing left and right t critical values\n",
    "t_critical_left=meann+(-t_crit*std_1)\n",
    "t_critical_right=meann+(t_crit*std_1)\n",
    "\n",
    "#shadding left region(rejection)\n",
    "x1 = np.linspace(x_min, t_critical_left, 100)\n",
    "y1 = norm.pdf(x1, meann, std_1)\n",
    "plt.fill_between(x1, y1, color='red')\n",
    "\n",
    "# Shading the right rejection region\n",
    "x2 = np.linspace(t_critical_right, x_max, 100)\n",
    "y2 = norm.pdf(x2, meann, std_1)\n",
    "plt.fill_between(x2, y2, color='red')\n",
    "\n",
    "# Ploting the sample mean and concluding the results \n",
    "plt.scatter(sample_mean, 0)\n",
    "plt.annotate(\"x_bar\", (sample_mean, 0.0007))"
   ]
  },
  {
   "cell_type": "markdown",
   "id": "76616351",
   "metadata": {},
   "source": [
    "# Conclusion\n",
    "<b>In above graph we plotted t critical value of left and right tail and we also observed that t score is less than t-critical value so we are failed to reject null hypothesis (mean the average value is not equal to 500"
   ]
  },
  {
   "cell_type": "markdown",
   "id": "35002a03",
   "metadata": {},
   "source": [
    "# Question 2"
   ]
  },
  {
   "cell_type": "markdown",
   "id": "50304c1c",
   "metadata": {},
   "source": [
    "<b>Q-2: You have developed a new Natural Language Processing Algorithms and done a user study. You claim that the average rating given by the users is greater than 4 on a scale of 1 to 5. How do you prove this to your client?</b>\n",
    "Step - 1:  \n",
    "Alternate Hypothesis (Bold Claim): $$ H_1: \\mu >4  $$\n",
    "Null Hypothesis (Status Quo): $$ H_0: \\mu \\leq 4  $$\n",
    "\n",
    "Step - 2:  \n",
    "* Collect a sample of size n = 20 $$ [4, 3, 5, 4, 5, 3, 5, 5, 4, 2, 4, 5, 5, 4, 4, 5, 4, 5, 4, 5] $$\n",
    "* Compute sample mean $$ \\bar{x} \\ = \\ ? $$\n",
    "\n",
    "Step - 3:\n",
    "Compute Test Statistic: $$ t = \\frac{\\bar{x} - \\mu}{s/\\sqrt[2]{n}}$$\n",
    "\n",
    "Step - 4:\n",
    "Decide $ \\alpha $\n",
    "\n",
    "Step - 5.1: ? tailed z-test: $$ reject \\ H_0 \\ if ? $$\n",
    "\n",
    "Step - 5.2: Compute p-value\n"
   ]
  },
  {
   "cell_type": "code",
   "execution_count": 10,
   "id": "9a89b283",
   "metadata": {},
   "outputs": [
    {
     "name": "stdout",
     "output_type": "stream",
     "text": [
      "Sample mean =  4.25\n",
      "Standard Deviation of given sample  0.82915619758885\n"
     ]
    }
   ],
   "source": [
    "#Given that\n",
    "n1=20 #sample size\n",
    "a1=[4,3,5,4,5,3,5,5,4,2,4,5,5,4,4,5,4,5,4,5]\n",
    "sample_mean=sum(a1)/n1\n",
    "print(\"Sample mean = \",sample_mean)\n",
    "\n",
    "print(\"Standard Deviation of given sample \",std(a1))\n",
    "\n"
   ]
  },
  {
   "cell_type": "code",
   "execution_count": 11,
   "id": "15f63e1d",
   "metadata": {},
   "outputs": [
    {
     "name": "stdout",
     "output_type": "stream",
     "text": [
      "T_score is =  1.3483997249264843\n"
     ]
    }
   ],
   "source": [
    "#sample parameters are\n",
    "\n",
    "sample_mean_1=4.25\n",
    "population_mean_1=4\n",
    "sample_std_1= 0.82915619758885\n",
    "sample_size_1=20\n",
    "\n",
    "\n",
    "#calculating t score for above paramets\n",
    "t_sc= t_scoree(sample_mean_1,population_mean_1,sample_std_1,sample_size_1)\n",
    "print(\"T_score is = \",t_sc)"
   ]
  },
  {
   "cell_type": "code",
   "execution_count": 12,
   "id": "12cb6d92",
   "metadata": {},
   "outputs": [
    {
     "name": "stdout",
     "output_type": "stream",
     "text": [
      "T critical value is  1.8331129326536335\n"
     ]
    }
   ],
   "source": [
    "#calculating T critical value\n",
    "t_crit_1= scipy.stats.t.ppf(q=1-.05,df=9) #Right tailed test\n",
    "print(\"T critical value is \",t_crit_1)"
   ]
  },
  {
   "cell_type": "code",
   "execution_count": 13,
   "id": "355121bb",
   "metadata": {},
   "outputs": [
    {
     "name": "stdout",
     "output_type": "stream",
     "text": [
      "Failed to reject null hypothesis\n"
     ]
    }
   ],
   "source": [
    "#Decision with t test\n",
    "if (np.abs(t_sc)>t_crit_1):\n",
    "    print(\"Reject the null Hypothesis\")\n",
    "else:\n",
    "    print(\"Failed to reject null hypothesis\")"
   ]
  },
  {
   "cell_type": "code",
   "execution_count": 27,
   "id": "5899b230",
   "metadata": {},
   "outputs": [
    {
     "name": "stdout",
     "output_type": "stream",
     "text": [
      "p_value= 0.08876492620607679\n",
      "Fail to reject Null Hypothesis\n"
     ]
    }
   ],
   "source": [
    "#Decision with p value\n",
    "p_value= (1.0-norm.cdf(np.abs(t_sc)))\n",
    "print(\"p_value=\",p_value)\n",
    "\n",
    "if(p_value<alpha):\n",
    "    print(\"Reject Null Hypothesis\")\n",
    "else:\n",
    "    print(\"Fail to reject Null Hypothesis\")"
   ]
  },
  {
   "cell_type": "markdown",
   "id": "4e3ad63c",
   "metadata": {},
   "source": [
    "<b>Plotting"
   ]
  },
  {
   "cell_type": "code",
   "execution_count": 15,
   "id": "b71b1f0c",
   "metadata": {},
   "outputs": [
    {
     "data": {
      "text/plain": [
       "Text(4.25, 0.1, 'x_bar')"
      ]
     },
     "execution_count": 15,
     "metadata": {},
     "output_type": "execute_result"
    },
    {
     "data": {
      "image/png": "[encoded data removed]",
      "text/plain": [
       "<Figure size 432x288 with 1 Axes>"
      ]
     },
     "metadata": {
      "needs_background": "light"
     },
     "output_type": "display_data"
    }
   ],
   "source": [
    "#Plotting the sampling distributions with rejection regions\n",
    "\n",
    "x_min_1=3.5\n",
    "x_max_1=4.5\n",
    "\n",
    "#Defining the sampling distribution mean and sampling distribution std\n",
    "mean_1=population_mean_1\n",
    "std_1=sample_std_1/(sample_size_1**0.5)\n",
    "\n",
    "#setting x limits and plotting the graph\n",
    "x_1=np.linspace(x_min_1,x_max_1,100)\n",
    "y_1=norm.pdf(x_1,mean_1,std_1)\n",
    "plt.xlim(x_min_1,x_max_1)\n",
    "plt.plot(x_1,y_1)\n",
    "\n",
    "#Right tailed test\n",
    "t_critical_right=population_mean_1+(t_crit_1*std_1)\n",
    "\n",
    "#Shading the right rejection region\n",
    "x2=np.linspace(t_critical_right,x_max_1,100)\n",
    "y2=norm.pdf(x2,mean_1,std_1)\n",
    "plt.fill_between(x2,y2,color='red')\n",
    "\n",
    "\n",
    "#sample mean lies \n",
    "plt.scatter(sample_mean_1, 0)\n",
    "plt.annotate(\"x_bar\", (sample_mean_1, 0.1))"
   ]
  },
  {
   "cell_type": "markdown",
   "id": "928f17ad",
   "metadata": {},
   "source": [
    "<b>Conclusion\n",
    "\n",
    "    In above graph we plotted t critical value for right tailed and we also observed that t score is less than t-critical \n",
    "    value so we are failed to reject null hypothesis (average mean should be less than or equal to 4)"
   ]
  },
  {
   "cell_type": "markdown",
   "id": "dc7f8e4b",
   "metadata": {},
   "source": [
    "<b>Q-3: TATA has developed a better fuel management system for the SUV segment. They claim that with this system, on average the SUV's mileage is at least 15 km/litre?"
   ]
  },
  {
   "cell_type": "markdown",
   "id": "fb30e1a9",
   "metadata": {},
   "source": [
    "Step-1:\\ Alternate Hypothesis (Bold Claim):$$ H_1: \\mu >15  $$\n",
    "Null Hypothesis (Status Quo):$$H_{0}: \\mu  \\leq 15$$\n",
    "\n",
    "Step-2:\n",
    "\n",
    "Collect a sample size n=20$$[14.8,14.13,15.65,13.78,16.26,14.97,15.36,15.81,14.53,16.79,15.78,16.98,13.23,15.4,15.46,13.88,14.31,14.41,15.7,15.38]$$\n",
    "Compute the sample mean$$\\overline{x}=15.130499999999998$$\n",
    "Step-3: Compute Test statistics$$t=\\frac{\\overline{x}-\\mu}{s/\\sqrt{n}}$$\n",
    "\n",
    "Step-4: Decide $\\alpha$ or significance level= $0.95$\n",
    "\n",
    "Step-5.1:Rigth tailed t-statistics $$ reject \\ H_0 \\ if \\ ?$$ if  $t\\gt;t_{n-1,\\alpha}$\n",
    "\n",
    "Step-5.2: Compute p-value"
   ]
  },
  {
   "cell_type": "code",
   "execution_count": 17,
   "id": "d9792152",
   "metadata": {},
   "outputs": [
    {
     "name": "stdout",
     "output_type": "stream",
     "text": [
      "15.130499999999998\n"
     ]
    }
   ],
   "source": [
    "#given\n",
    "a2=[14.8,14.13,15.65,13.78,16.26,14.97,15.36,15.81,14.53,16.79,15.78,16.98,13.23,15.4,15.46,13.88,14.31,14.41,15.7,15.38]\n",
    "n2=20 #sample size \n",
    "sample_mean_2=sum(a2)/n2\n",
    "\n",
    "print(sample_mean_2)"
   ]
  },
  {
   "cell_type": "code",
   "execution_count": 18,
   "id": "c57036d0",
   "metadata": {},
   "outputs": [
    {
     "name": "stdout",
     "output_type": "stream",
     "text": [
      "0.9724375301272571\n"
     ]
    }
   ],
   "source": [
    "#sample std deviation\n",
    "print(std(a2))"
   ]
  },
  {
   "cell_type": "markdown",
   "id": "9645e594",
   "metadata": {},
   "source": [
    "<b>Calculating T score"
   ]
  },
  {
   "cell_type": "code",
   "execution_count": 22,
   "id": "4ddda4c0",
   "metadata": {},
   "outputs": [
    {
     "name": "stdout",
     "output_type": "stream",
     "text": [
      "0.6001555102990127\n"
     ]
    }
   ],
   "source": [
    "#Given\n",
    "sample_mean_2=15.130499999999998\n",
    "sample_std_2 = 0.9724375301272571\n",
    "population_mean_2=15\n",
    "sample_size_2=20\n",
    "\n",
    "t_score_2=t_scoree(sample_mean_2,population_mean_2,sample_std_2,sample_size_2)\n",
    "print(t_score_2)"
   ]
  },
  {
   "cell_type": "markdown",
   "id": "374dea53",
   "metadata": {},
   "source": [
    "<b>Calculating t critical"
   ]
  },
  {
   "cell_type": "code",
   "execution_count": 25,
   "id": "93f08f2c",
   "metadata": {},
   "outputs": [
    {
     "name": "stdout",
     "output_type": "stream",
     "text": [
      "1.729132811521367\n"
     ]
    }
   ],
   "source": [
    "import scipy.stats\n",
    "\n",
    "confidence_level=0.95\n",
    "alpha=1-confidence_level\n",
    "df=19 #df is degree of freedom\n",
    "t_crit_2= scipy.stats.t.ppf(q=1-.05,df=19)  #performing one tailed test\n",
    "print(t_crit_2)"
   ]
  },
  {
   "cell_type": "markdown",
   "id": "5726bc63",
   "metadata": {},
   "source": [
    "<b>Decision making"
   ]
  },
  {
   "cell_type": "code",
   "execution_count": 26,
   "id": "649bce84",
   "metadata": {},
   "outputs": [
    {
     "name": "stdout",
     "output_type": "stream",
     "text": [
      "Failed to reject null hypothesis\n"
     ]
    }
   ],
   "source": [
    "#with t score\n",
    "if t_score_2>t_crit_2:\n",
    "    print(\"Reject Null Hypothesis\")\n",
    "else:\n",
    "    print(\"Failed to reject null hypothesis\")"
   ]
  },
  {
   "cell_type": "code",
   "execution_count": 28,
   "id": "c368f306",
   "metadata": {},
   "outputs": [
    {
     "name": "stdout",
     "output_type": "stream",
     "text": [
      "p_value= 0.27420130031012957\n",
      "Fail to reject Null Hypothesis\n"
     ]
    }
   ],
   "source": [
    "#with p value\n",
    "p_value_2= (1.0-norm.cdf(np.abs(t_score_2)))\n",
    "print(\"p_value=\",p_value_2)\n",
    "\n",
    "if(p_value<alpha):\n",
    "    print(\"Reject Null Hypothesis\")\n",
    "else:\n",
    "    print(\"Fail to reject Null Hypothesis\")\n"
   ]
  },
  {
   "cell_type": "markdown",
   "id": "1b426583",
   "metadata": {},
   "source": [
    "<b>Q-4: You have developed a new Machine Learning Application and claim that on average it takes less than 100 ms to predict for any future datapoint. How do you convince your client about this claim?"
   ]
  },
  {
   "cell_type": "markdown",
   "id": "18fffbe1",
   "metadata": {},
   "source": [
    "Step-1:\\ Alternate Hypothesis (Bold Claim):$H_{1}: \\mu \\lt; 100$\n",
    "\n",
    "Null Hypothesis (Status Quo):$$H_{0}: \\mu  \\geq 100$$\n",
    "\n",
    "Step-2:\n",
    "\n",
    "Collect a sample size n=100\n",
    "Compute the sample mean$$\\overline{x}=99.25$$\n",
    "Step-3: Compute Test statistics$$t=\\frac{\\overline{x}-\\mu}{s/\\sqrt{n}}$$\n",
    "\n",
    "Step-4: Decide $\\alpha$ or significance level= $0.99$\n",
    "\n",
    "Step-5.1:Rigth tailed t-statistics $reject \\ H_{0} \\ if \\\\ t\\lt;t_{n-1,\\alpha}$\n",
    "Step-5.2: Compute p-value"
   ]
  },
  {
   "cell_type": "code",
   "execution_count": 32,
   "id": "ede2c78d",
   "metadata": {},
   "outputs": [
    {
     "name": "stdout",
     "output_type": "stream",
     "text": [
      "[102, 97, 101, 99, 103, 102, 97, 98, 96, 95, 95, 96, 96, 103, 98, 95, 98, 100, 100, 103, 96, 95, 99, 104, 96, 96, 99, 99, 99, 100, 101, 98, 103, 103, 99, 95, 99, 99, 97, 99, 95, 98, 98, 98, 96, 103, 102, 96, 103, 95, 101, 97, 97, 97, 98, 103, 102, 100, 102, 100, 101, 97, 104, 99, 96, 95, 95, 100, 95, 98, 104, 100, 95, 95, 104, 99, 102, 96, 96, 96, 95, 95, 100, 103, 97, 98, 100, 101, 98, 101, 96, 99, 104, 104, 102, 104, 96, 101, 97, 96]\n"
     ]
    }
   ],
   "source": [
    "#getting data\n",
    "a3=np.random.randint(95,105,size=100)\n",
    "print(list(a3))"
   ]
  },
  {
   "cell_type": "code",
   "execution_count": 34,
   "id": "e820e437",
   "metadata": {},
   "outputs": [
    {
     "name": "stdout",
     "output_type": "stream",
     "text": [
      "[102  97 101  99 103 102  97  98  96  95  95  96  96 103  98  95  98 100\n",
      " 100 103]\n"
     ]
    }
   ],
   "source": [
    "#consider sample size=20\n",
    "n=a3[:20]\n",
    "print(n)"
   ]
  },
  {
   "cell_type": "code",
   "execution_count": 36,
   "id": "c6a4e74d",
   "metadata": {},
   "outputs": [
    {
     "name": "stdout",
     "output_type": "stream",
     "text": [
      "98.7\n"
     ]
    }
   ],
   "source": [
    "sample_mean_3=sum(n)/len(n)\n",
    "print(sample_mean_3)"
   ]
  },
  {
   "cell_type": "code",
   "execution_count": 37,
   "id": "e56e42fc",
   "metadata": {},
   "outputs": [
    {
     "name": "stdout",
     "output_type": "stream",
     "text": [
      "2.7946377224964243\n"
     ]
    }
   ],
   "source": [
    "print(std(n))"
   ]
  },
  {
   "cell_type": "markdown",
   "id": "0a51deae",
   "metadata": {},
   "source": [
    "<b>Computng T score"
   ]
  },
  {
   "cell_type": "code",
   "execution_count": 38,
   "id": "04aba189",
   "metadata": {},
   "outputs": [
    {
     "name": "stdout",
     "output_type": "stream",
     "text": [
      "-2.0803328798933003\n"
     ]
    }
   ],
   "source": [
    "#given\n",
    "sample_mean_3=98.7\n",
    "sample_std_3=2.7946377224964243\n",
    "population_mean_3=100\n",
    "sample_size_3=20\n",
    "\n",
    "t_score_3=t_scoree(sample_mean_3,population_mean_3,sample_std_3,sample_size_3)\n",
    "print(t_score_3) #we perform let tailed test as t score is negative"
   ]
  },
  {
   "cell_type": "markdown",
   "id": "9d4696af",
   "metadata": {},
   "source": [
    "<b>Caculating t critical"
   ]
  },
  {
   "cell_type": "code",
   "execution_count": 39,
   "id": "5a7746b8",
   "metadata": {},
   "outputs": [
    {
     "name": "stdout",
     "output_type": "stream",
     "text": [
      "1.729132811521367\n"
     ]
    }
   ],
   "source": [
    "confidence_level=0.95\n",
    "alpha=1-confidence_level\n",
    "df=19 #df is degree of freedom\n",
    "t_crit_3= scipy.stats.t.ppf(q=1-.05,df=19)  #performing one tailed test\n",
    "print(t_crit_3)"
   ]
  },
  {
   "cell_type": "markdown",
   "id": "767a3cc5",
   "metadata": {},
   "source": [
    "<b>Decision making\n",
    "    "
   ]
  },
  {
   "cell_type": "code",
   "execution_count": 40,
   "id": "e8b3c6e1",
   "metadata": {},
   "outputs": [
    {
     "name": "stdout",
     "output_type": "stream",
     "text": [
      "Reject Null Hypothesis\n"
     ]
    }
   ],
   "source": [
    "if np.abs(t_score_3)>t_crit_3:\n",
    "    print(\"Reject Null Hypothesis\")\n",
    "else:\n",
    "    print(\"Failed to reject null hypothesis\")"
   ]
  },
  {
   "cell_type": "code",
   "execution_count": 42,
   "id": "adc56367",
   "metadata": {},
   "outputs": [
    {
     "name": "stdout",
     "output_type": "stream",
     "text": [
      "p_value= 0.27420130031012957\n",
      "Reject Null Hypothesis\n"
     ]
    }
   ],
   "source": [
    "p_value_3= (1.0-norm.cdf(np.abs(t_score_3)))\n",
    "print(\"p_value=\",p_value_2)\n",
    "\n",
    "if(p_value_3<alpha):\n",
    "    print(\"Reject Null Hypothesis\")\n",
    "else:\n",
    "    print(\"Fail to reject Null Hypothesis\")\n"
   ]
  },
  {
   "cell_type": "markdown",
   "id": "87f6902a",
   "metadata": {},
   "source": [
    "<b>Plotting"
   ]
  },
  {
   "cell_type": "code",
   "execution_count": 46,
   "id": "d09d190b",
   "metadata": {},
   "outputs": [
    {
     "data": {
      "text/plain": [
       "Text(98.7, 0.02, 'x_bar')"
      ]
     },
     "execution_count": 46,
     "metadata": {},
     "output_type": "execute_result"
    },
    {
     "data": {
      "image/png": "[encoded data removed]",
      "text/plain": [
       "<Figure size 432x288 with 1 Axes>"
      ]
     },
     "metadata": {
      "needs_background": "light"
     },
     "output_type": "display_data"
    }
   ],
   "source": [
    "#Plotting the graph\n",
    "\n",
    "x_min_3=95\n",
    "x_max_3=105\n",
    "\n",
    "mean_3=population_mean_3\n",
    "std_3=sample_std_3/(sample_size_3**0.5)\n",
    "\n",
    "x3=np.linspace(x_min_3,x_max_3,100)\n",
    "y3=norm.pdf(x3,mean_3,std_3)\n",
    "\n",
    "plt.xlim(x_min_3,x_max_3)\n",
    "plt.plot(x3,y3)\n",
    "\n",
    "t_critical_left_3=population_mean_3+(-t_crit_3*std_3)\n",
    "\n",
    "x3=np.linspace(x_min_3,t_critical_left_3,100)\n",
    "y3=norm.pdf(x3,mean_3,std_3)\n",
    "plt.fill_between(x3,y3,color='red')\n",
    "\n",
    "plt.scatter(sample_mean_3,0)\n",
    "plt.annotate(\"x_bar\",(sample_mean_3,0.02))"
   ]
  },
  {
   "cell_type": "code",
   "execution_count": null,
   "id": "527eea4b",
   "metadata": {},
   "outputs": [],
   "source": []
  }
 ],
 "metadata": {
  "kernelspec": {
   "display_name": "Python 3",
   "language": "python",
   "name": "python3"
  },
  "language_info": {
   "codemirror_mode": {
    "name": "ipython",
    "version": 3
   },
   "file_extension": ".py",
   "mimetype": "text/x-python",
   "name": "python",
   "nbconvert_exporter": "python",
   "pygments_lexer": "ipython3",
   "version": "3.8.8"
  }
 },
 "nbformat": 4,
 "nbformat_minor": 5
}
