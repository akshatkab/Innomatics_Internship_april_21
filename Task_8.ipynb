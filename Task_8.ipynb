{
 "cells": [
  {
   "cell_type": "markdown",
   "id": "6a20ad6a",
   "metadata": {},
   "source": [
    "# Assignment 08"
   ]
  },
  {
   "cell_type": "markdown",
   "id": "fc12d597",
   "metadata": {},
   "source": [
    "# 10 Days of Statistics"
   ]
  },
  {
   "cell_type": "code",
   "execution_count": 1,
   "id": "b4190dc6",
   "metadata": {},
   "outputs": [
    {
     "name": "stdout",
     "output_type": "stream",
     "text": [
      "1.09 1\n",
      "0.696\n"
     ]
    }
   ],
   "source": [
    "#1\n",
    "#Binomial Distribution I\n",
    "# Enter your code here. Read input from STDIN. Print output to STDOUT\n",
    "from math import factorial as fc\n",
    "b,g=map(float,input().split())\n",
    "p=float(b/(b+g))\n",
    "def c(n,r):\n",
    "    return fc(n)/(fc(n-r)*fc(r))\n",
    "\n",
    "n=6    \n",
    "a=sum(p**i * (1-p)**(n-i) * c(n, i) for i in range(3, 7))\n",
    "print(round(a,3))\n"
   ]
  },
  {
   "cell_type": "code",
   "execution_count": 7,
   "id": "1567a01d",
   "metadata": {},
   "outputs": [
    {
     "name": "stdout",
     "output_type": "stream",
     "text": [
      "12 10\n",
      "0.891\n"
     ]
    }
   ],
   "source": [
    "#2\n",
    "#Binomial Distribution II\n",
    "from math import factorial as fc\n",
    "p, n = list(map(int, input().split(\" \")))\n",
    "\n",
    "p=p/100\n",
    "def c(n,r):\n",
    "    return fc(n)/(fc(n-r)*fc(r))\n",
    "\n",
    "a=sum(p**i * (1-p)**(n-i) * c(n, i) for i in range(3))\n",
    "print(round(a,3))\n"
   ]
  },
  {
   "cell_type": "code",
   "execution_count": 8,
   "id": "c8874b6a",
   "metadata": {},
   "outputs": [
    {
     "name": "stdout",
     "output_type": "stream",
     "text": [
      "20 2\n",
      "19.5\n",
      "20 22\n",
      "0.401\n",
      "0.341\n"
     ]
    }
   ],
   "source": [
    "#3\n",
    "#Normal Distribution I\n",
    "import math\n",
    "mean,std=map(float,input().split())\n",
    "def cdf(x,mean,std):\n",
    "    return 0.5 * (1 + math.erf((x - mean) / (std * (2 ** 0.5))))\n",
    "\n",
    "\n",
    "v1=float(input())\n",
    "r1,r2=map(float,input().split())\n",
    "print(round(cdf(v1,mean,std),3))\n",
    "print(round(cdf(r2,mean,std)-cdf(r1,mean,std),3))"
   ]
  },
  {
   "cell_type": "code",
   "execution_count": 11,
   "id": "989179d6",
   "metadata": {},
   "outputs": [
    {
     "name": "stdout",
     "output_type": "stream",
     "text": [
      "70 10\n",
      "80 \n",
      "60\n",
      "15.87\n",
      "84.13\n",
      "15.87\n"
     ]
    }
   ],
   "source": [
    "#4\n",
    "#Normal Distributin II\n",
    "import math\n",
    "\n",
    "mean,std=map(float,input().split())\n",
    "v1=float(input())\n",
    "v2=float(input())\n",
    "def cdf(x,mean,std):\n",
    "    return 0.5*(1+ math.erf((x-mean)/(std*(2**0.5))))\n",
    "\n",
    "\n",
    "greater_80=1-cdf(v1,mean,std)\n",
    "greater_60=1-cdf(v2,mean,std)\n",
    "less_60=cdf(v2,mean,std)\n",
    "print(round(greater_80*100,2))\n",
    "print(round(greater_60*100,2))\n",
    "print(round(less_60*100,2))"
   ]
  },
  {
   "cell_type": "code",
   "execution_count": 14,
   "id": "69411bd5",
   "metadata": {},
   "outputs": [
    {
     "name": "stdout",
     "output_type": "stream",
     "text": [
      "9800\n",
      "49\n",
      "205\n",
      "15\n",
      "0.0098\n"
     ]
    }
   ],
   "source": [
    "#5\n",
    "#The Central Limit Theorem I\n",
    "import math\n",
    "max_input=int(input())\n",
    "no_of_cargo=int(input())\n",
    "mean=int(input())\n",
    "std=int(input())\n",
    "def cdf(x,mean,std):\n",
    "    return 0.5*(1+ math.erf((x-mean)/(std*math.sqrt(2))))\n",
    "\n",
    "\n",
    "mean_new=no_of_cargo*mean\n",
    "std_new=math.sqrt(no_of_cargo)*std\n",
    "prob=cdf(max_input,mean_new,std_new)\n",
    "print(round(prob,4))"
   ]
  },
  {
   "cell_type": "code",
   "execution_count": 15,
   "id": "15172700",
   "metadata": {},
   "outputs": [
    {
     "name": "stdout",
     "output_type": "stream",
     "text": [
      "100\n",
      "500\n",
      "80\n",
      ".95\n",
      "1.96\n",
      "484.32\n",
      "515.68\n"
     ]
    }
   ],
   "source": [
    "#6\n",
    "#The Central Limit Theorem III\n",
    "import math\n",
    "sample_size=int(input())\n",
    "mean=int(input())\n",
    "std=int(input())\n",
    "per=float(input())\n",
    "z_score=float(input())\n",
    "new_mean=sample_size*mean\n",
    "new_std=std*math.sqrt(sample_size)\n",
    "ci_1=((-z_score*std/math.sqrt(sample_size))+mean)\n",
    "ci_2=((z_score*std/math.sqrt(sample_size))+mean)\n",
    "print(round(ci_1,2))\n",
    "print(round(ci_2,2))"
   ]
  },
  {
   "cell_type": "code",
   "execution_count": 16,
   "id": "4df87791",
   "metadata": {},
   "outputs": [
    {
     "name": "stdout",
     "output_type": "stream",
     "text": [
      "250\n",
      "100\n",
      "2.4\n",
      "2\n",
      "0.6915\n"
     ]
    }
   ],
   "source": [
    "#7\n",
    "#The Central Limit Theorem II\n",
    "import math\n",
    "\n",
    "def cdf(x,mean,std):\n",
    "    return 0.5*(1+ math.erf((x-mean)/(std*math.sqrt(2))))\n",
    "\n",
    "last_minute=int(input())\n",
    "students=int(input())\n",
    "mean=float(input())\n",
    "std=float(input())\n",
    "mean_new=students*mean\n",
    "std_new=math.sqrt(students)*std\n",
    "prob=cdf(last_minute,mean_new,std_new)\n",
    "print(round(prob,4))"
   ]
  },
  {
   "cell_type": "code",
   "execution_count": null,
   "id": "6d6d5bda",
   "metadata": {},
   "outputs": [],
   "source": []
  }
 ],
 "metadata": {
  "kernelspec": {
   "display_name": "Python 3",
   "language": "python",
   "name": "python3"
  },
  "language_info": {
   "codemirror_mode": {
    "name": "ipython",
    "version": 3
   },
   "file_extension": ".py",
   "mimetype": "text/x-python",
   "name": "python",
   "nbconvert_exporter": "python",
   "pygments_lexer": "ipython3",
   "version": "3.8.8"
  }
 },
 "nbformat": 4,
 "nbformat_minor": 5
}
